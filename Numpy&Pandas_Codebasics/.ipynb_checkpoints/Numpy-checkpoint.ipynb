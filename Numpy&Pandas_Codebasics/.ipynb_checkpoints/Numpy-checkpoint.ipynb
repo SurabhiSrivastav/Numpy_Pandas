{
 "cells": [
  {
   "cell_type": "markdown",
   "id": "97b18a98-dd89-4083-b60a-5d19b1d86f56",
   "metadata": {},
   "source": [
    "### 1. Numpy vs List"
   ]
  },
  {
   "cell_type": "code",
   "execution_count": 23,
   "id": "369c21fc-cbe6-4f42-9ee3-2319dd694d61",
   "metadata": {},
   "outputs": [],
   "source": [
    "import numpy as np\n",
    "import sys\n",
    "import time"
   ]
  },
  {
   "cell_type": "code",
   "execution_count": 2,
   "id": "2a94ff78-52ba-44e0-a1ea-d5133129dde9",
   "metadata": {},
   "outputs": [
    {
     "data": {
      "text/plain": [
       "array([1, 2, 3])"
      ]
     },
     "execution_count": 2,
     "metadata": {},
     "output_type": "execute_result"
    }
   ],
   "source": [
    "np.array([1,2,3])"
   ]
  },
  {
   "cell_type": "markdown",
   "id": "02252d67-4a59-46c9-aa82-532eb7871c09",
   "metadata": {},
   "source": [
    "#### 3 main benefits of numpy arr over python list is less memory, fast and convenient\n",
    "In numpy each element will occupy 4 bytes of memory, while in python as everything is object so a list will contain a list of pointers first and each pointer will point to list of objects. And each object will be of 14 bytes.\n",
    "So its of importance is in case of huge no. of data"
   ]
  },
  {
   "cell_type": "code",
   "execution_count": 19,
   "id": "bc049a17-b89d-4eda-8d32-7927d44e1b59",
   "metadata": {},
   "outputs": [
    {
     "name": "stdout",
     "output_type": "stream",
     "text": [
      "28000\n"
     ]
    }
   ],
   "source": [
    "# python list\n",
    "l = range(1000) # is a list with 1000 elements\n",
    "print(sys.getsizeof(5)*len(l))"
   ]
  },
  {
   "cell_type": "code",
   "execution_count": 20,
   "id": "dcd6707d-2426-4611-afb8-269f380ad933",
   "metadata": {},
   "outputs": [
    {
     "name": "stdout",
     "output_type": "stream",
     "text": [
      "4000\n"
     ]
    }
   ],
   "source": [
    "# numpy array\n",
    "array = np.arange(1000)\n",
    "print(array.size*array.itemsize)\n",
    "# size gives len of arr and itemsize gives size of each element"
   ]
  },
  {
   "cell_type": "markdown",
   "id": "84f61f25-8a40-4694-997a-1e81c7e64ae5",
   "metadata": {},
   "source": [
    "From below e.g., We can see that numpy is taking comparatively very less time than python list"
   ]
  },
  {
   "cell_type": "code",
   "execution_count": 33,
   "id": "321e419a-8cf0-4a8e-a8b3-fa83dc07810c",
   "metadata": {},
   "outputs": [],
   "source": [
    "sizes= 100000"
   ]
  },
  {
   "cell_type": "code",
   "execution_count": 34,
   "id": "da77bffa-cf78-42b4-8f7d-3d559c18eecd",
   "metadata": {},
   "outputs": [
    {
     "name": "stdout",
     "output_type": "stream",
     "text": [
      "python list took: 14.742374420166016\n"
     ]
    }
   ],
   "source": [
    "l1=range(sizes)\n",
    "l2=range(sizes)\n",
    "start = time.time()\n",
    "ans = [(x+y) for x,y in zip(l1,l2)]\n",
    "print(\"python list took:\" ,(time.time()-start)*1000) #multiplied by 1000 for millisecond"
   ]
  },
  {
   "cell_type": "code",
   "execution_count": 35,
   "id": "33585574-55d1-4c41-9702-f62aa22435f3",
   "metadata": {},
   "outputs": [
    {
     "name": "stdout",
     "output_type": "stream",
     "text": [
      "numpy arr took: 3.145933151245117\n"
     ]
    }
   ],
   "source": [
    "a1= np.arange(sizes)\n",
    "a2 = np.arange(sizes)\n",
    "start = time.time()\n",
    "ans = a1+a2\n",
    "print(\"numpy arr took:\" ,(time.time()-start)*1000)"
   ]
  },
  {
   "cell_type": "markdown",
   "id": "95d1c3ca-2225-414f-bd9c-f17b6948cc4d",
   "metadata": {},
   "source": [
    "Also its convenient as we can directly perform any operation without applying list comprehension"
   ]
  },
  {
   "cell_type": "code",
   "execution_count": 36,
   "id": "9fa773f4-fa0a-4e47-840c-141a270e768b",
   "metadata": {},
   "outputs": [],
   "source": [
    "a1 = np.array([1,2,3])\n",
    "a2 = np.array([4,5,6])"
   ]
  },
  {
   "cell_type": "code",
   "execution_count": 40,
   "id": "e043d3a2-a8e2-4d3a-8207-a7621d62febc",
   "metadata": {},
   "outputs": [
    {
     "name": "stdout",
     "output_type": "stream",
     "text": [
      "[5 7 9]\n",
      "[3 3 3]\n",
      "[ 4 10 18]\n"
     ]
    }
   ],
   "source": [
    "print(a1+a2)\n",
    "print(a2-a1)\n",
    "print(a1*a2)"
   ]
  },
  {
   "cell_type": "markdown",
   "id": "5f2f104b-5821-4e41-a2b4-708377f41211",
   "metadata": {},
   "source": [
    "### 2. Numpy basic array operations"
   ]
  },
  {
   "cell_type": "code",
   "execution_count": 42,
   "id": "2266e1fb-43dd-4b49-baeb-98bcb5da5d1d",
   "metadata": {},
   "outputs": [],
   "source": [
    "import numpy as np"
   ]
  },
  {
   "cell_type": "code",
   "execution_count": 48,
   "id": "b0bd0bc1-9f29-49b2-b6c4-54b699f79826",
   "metadata": {},
   "outputs": [
    {
     "data": {
      "text/plain": [
       "1"
      ]
     },
     "execution_count": 48,
     "metadata": {},
     "output_type": "execute_result"
    }
   ],
   "source": [
    "#1d array\n",
    "a = np.array([5,6,9])\n",
    "a[0]"
   ]
  },
  {
   "cell_type": "code",
   "execution_count": 47,
   "id": "27e327b9-fe64-4ae2-a58b-049600c4985f",
   "metadata": {},
   "outputs": [
    {
     "data": {
      "text/plain": [
       "2"
      ]
     },
     "execution_count": 47,
     "metadata": {},
     "output_type": "execute_result"
    }
   ],
   "source": [
    "#2d array\n",
    "a = np.array([[1,2],[3,4],[5,6]])\n",
    "a.ndim   ##gives dimension of array"
   ]
  },
  {
   "cell_type": "code",
   "execution_count": 50,
   "id": "fb3dcabb-a100-4395-9713-dd332f564321",
   "metadata": {},
   "outputs": [
    {
     "data": {
      "text/plain": [
       "dtype('int32')"
      ]
     },
     "execution_count": 50,
     "metadata": {},
     "output_type": "execute_result"
    }
   ],
   "source": [
    "a.itemsize\n",
    "##prints byte size of each of the element, as these are int, therefore, 4 bytes\n",
    "a.dtype"
   ]
  },
  {
   "cell_type": "code",
   "execution_count": 154,
   "id": "916ad532-a4f2-485c-8186-7131f1a61ecc",
   "metadata": {},
   "outputs": [
    {
     "name": "stdout",
     "output_type": "stream",
     "text": [
      "8\n",
      "[[1. 2.]\n",
      " [3. 4.]\n",
      " [5. 6.]]\n"
     ]
    }
   ],
   "source": [
    "a= np.array([[1,2],[3,4],[5,6]],dtype=np.float64)\n",
    "print(a.itemsize)\n",
    "print(a)"
   ]
  },
  {
   "cell_type": "code",
   "execution_count": 155,
   "id": "0f682764-9f1b-4e1b-80e8-f0a7dd1d828b",
   "metadata": {},
   "outputs": [
    {
     "name": "stdout",
     "output_type": "stream",
     "text": [
      "6\n",
      "(3, 2)\n"
     ]
    }
   ],
   "source": [
    "print(a.size) ## total no. of elements\n",
    "print(a.shape) ## gives info on dimension, (sort of height & width, or rows & cols)"
   ]
  },
  {
   "cell_type": "code",
   "execution_count": 60,
   "id": "11046f41-b78f-4d2d-90e5-74050d23d794",
   "metadata": {},
   "outputs": [
    {
     "data": {
      "text/plain": [
       "array([[1.+0.j, 2.+0.j],\n",
       "       [3.+0.j, 4.+0.j],\n",
       "       [5.+0.j, 6.+0.j]])"
      ]
     },
     "execution_count": 60,
     "metadata": {},
     "output_type": "execute_result"
    }
   ],
   "source": [
    "# can also define dtype to be complex no.\n",
    "a= np.array([[1,2],[3,4],[5,6]],dtype=complex)\n",
    "a"
   ]
  },
  {
   "cell_type": "code",
   "execution_count": 62,
   "id": "015e7a8c-59c3-425e-9b14-ca00f0212747",
   "metadata": {},
   "outputs": [
    {
     "data": {
      "text/plain": [
       "array([[0., 0., 0., 0.],\n",
       "       [0., 0., 0., 0.],\n",
       "       [0., 0., 0., 0.]])"
      ]
     },
     "execution_count": 62,
     "metadata": {},
     "output_type": "execute_result"
    }
   ],
   "source": [
    "# initializing arrays with some placeholder numbers\n",
    "np.zeros((3,4))"
   ]
  },
  {
   "cell_type": "code",
   "execution_count": 63,
   "id": "2b280e13-6312-436e-b347-05e2967f2316",
   "metadata": {},
   "outputs": [
    {
     "data": {
      "text/plain": [
       "array([[1., 1., 1.],\n",
       "       [1., 1., 1.]])"
      ]
     },
     "execution_count": 63,
     "metadata": {},
     "output_type": "execute_result"
    }
   ],
   "source": [
    "np.ones((2,3))"
   ]
  },
  {
   "cell_type": "code",
   "execution_count": 161,
   "id": "b425d027-d787-448c-9c6d-1cab3e13cedf",
   "metadata": {},
   "outputs": [
    {
     "data": {
      "text/plain": [
       "array([1, 3, 5])"
      ]
     },
     "execution_count": 161,
     "metadata": {},
     "output_type": "execute_result"
    }
   ],
   "source": [
    "# range funcn in list vs arange in numpy\n",
    "l= range(0,5) # 0 inclusive 5 not\n",
    "l[0]\n",
    "# numpy array works same\n",
    "np.arange(1,5)\n",
    "np.arange(1,7,2) #taking step of two in b/w"
   ]
  },
  {
   "cell_type": "code",
   "execution_count": 75,
   "id": "034ed802-c235-45c0-8e10-f4bf19011a27",
   "metadata": {},
   "outputs": [
    {
     "data": {
      "text/plain": [
       "array([1.        , 1.21052632, 1.42105263, 1.63157895, 1.84210526,\n",
       "       2.05263158, 2.26315789, 2.47368421, 2.68421053, 2.89473684,\n",
       "       3.10526316, 3.31578947, 3.52631579, 3.73684211, 3.94736842,\n",
       "       4.15789474, 4.36842105, 4.57894737, 4.78947368, 5.        ])"
      ]
     },
     "execution_count": 75,
     "metadata": {},
     "output_type": "execute_result"
    }
   ],
   "source": [
    "#linspace func helps in generating numbers b/w given range which are linearly spaced\n",
    "np.linspace(1,5,10)\n",
    "np.linspace(1,5,5)\n",
    "np.linspace(1,5,20)"
   ]
  },
  {
   "cell_type": "code",
   "execution_count": 80,
   "id": "4baffab5-f720-49d1-a101-fdc51f7d522c",
   "metadata": {},
   "outputs": [
    {
     "name": "stdout",
     "output_type": "stream",
     "text": [
      "[[1 2]\n",
      " [3 4]\n",
      " [5 6]]\n",
      "(3, 2)\n"
     ]
    },
    {
     "data": {
      "text/plain": [
       "array([[1],\n",
       "       [2],\n",
       "       [3],\n",
       "       [4],\n",
       "       [5],\n",
       "       [6]])"
      ]
     },
     "execution_count": 80,
     "metadata": {},
     "output_type": "execute_result"
    }
   ],
   "source": [
    "#reshape funcn\n",
    "a= np.array([[1,2],[3,4],[5,6]])\n",
    "print(a)\n",
    "print(a.shape)\n",
    "a.reshape(2,3)\n",
    "a.reshape(6,1) ### any compatible dimension will work"
   ]
  },
  {
   "cell_type": "code",
   "execution_count": 83,
   "id": "d8c7801a-0213-459f-9ee0-fc5925016bc9",
   "metadata": {},
   "outputs": [
    {
     "name": "stdout",
     "output_type": "stream",
     "text": [
      "[1 2 3 4 5 6]\n",
      "[[1 2]\n",
      " [3 4]\n",
      " [5 6]]\n"
     ]
    }
   ],
   "source": [
    "# to flatten array to 1D\n",
    "print(a.ravel()) # & it'll not transform the original arr, instead will return a new one\n",
    "print(a)"
   ]
  },
  {
   "cell_type": "code",
   "execution_count": 87,
   "id": "12e68879-ffd0-40cf-bf27-2021d59d3b8f",
   "metadata": {},
   "outputs": [
    {
     "data": {
      "text/plain": [
       "array([ 3,  7, 11])"
      ]
     },
     "execution_count": 87,
     "metadata": {},
     "output_type": "execute_result"
    }
   ],
   "source": [
    "#Some mathematical operations\n",
    "a.min()\n",
    "a.max()\n",
    "a.sum()\n",
    "a.sum(axis=0) # sum of col's elements\n",
    "a.sum(axis=1) # sum of row's elements"
   ]
  },
  {
   "cell_type": "code",
   "execution_count": 91,
   "id": "e2cfec65-eb8a-47cc-ad78-13a4b9eed8fa",
   "metadata": {},
   "outputs": [
    {
     "data": {
      "text/plain": [
       "1.707825127659933"
      ]
     },
     "execution_count": 91,
     "metadata": {},
     "output_type": "execute_result"
    }
   ],
   "source": [
    "#finding sqrt of arr elements\n",
    "np.sqrt(a)\n",
    "# finding std. deviation\n",
    "np.std(a)"
   ]
  },
  {
   "cell_type": "code",
   "execution_count": 92,
   "id": "f1cfa57a-14fb-4040-a584-edbc06ae0f4f",
   "metadata": {},
   "outputs": [],
   "source": [
    "a= np.array([[1,2],[3,4]])\n",
    "b= np.array([[5,6],[7,8]])"
   ]
  },
  {
   "cell_type": "code",
   "execution_count": 94,
   "id": "46a8fa83-993f-4005-a01f-4f9e355fb0e8",
   "metadata": {},
   "outputs": [
    {
     "name": "stdout",
     "output_type": "stream",
     "text": [
      "[[ 6  8]\n",
      " [10 12]]\n",
      "[[-4 -4]\n",
      " [-4 -4]]\n",
      "[[ 5 12]\n",
      " [21 32]]\n",
      "[[0.2        0.33333333]\n",
      " [0.42857143 0.5       ]]\n"
     ]
    }
   ],
   "source": [
    "print(a+b)\n",
    "print(a-b)\n",
    "print(a*b)\n",
    "print(a/b)"
   ]
  },
  {
   "cell_type": "code",
   "execution_count": 95,
   "id": "49ee7862-61af-4c30-8afa-a3af8a260be5",
   "metadata": {},
   "outputs": [
    {
     "data": {
      "text/plain": [
       "array([[19, 22],\n",
       "       [43, 50]])"
      ]
     },
     "execution_count": 95,
     "metadata": {},
     "output_type": "execute_result"
    }
   ],
   "source": [
    "# matrix product\n",
    "a.dot(b)"
   ]
  },
  {
   "cell_type": "markdown",
   "id": "034f7d3b-a184-4432-b12a-981456b2455a",
   "metadata": {},
   "source": [
    "### 3. Numpy slicing indexing"
   ]
  },
  {
   "cell_type": "code",
   "execution_count": 101,
   "id": "efa01e9e-23b1-4322-a18a-65f460d7e7e9",
   "metadata": {},
   "outputs": [
    {
     "name": "stdout",
     "output_type": "stream",
     "text": [
      "[6, 7]\n",
      "8\n",
      "[6 7]\n",
      "8\n"
     ]
    }
   ],
   "source": [
    "#python lists slicing\n",
    "l =[6,7,8]\n",
    "print(l[0:2])\n",
    "print(l[-1])\n",
    "\n",
    "# Slicing in numpy array is similar to that of lists\n",
    "a = np.array([6,7,8])\n",
    "print(a[0:2])\n",
    "print(a[-1])"
   ]
  },
  {
   "cell_type": "code",
   "execution_count": 165,
   "id": "26071301-04d1-4dd0-aa61-abc228c7a861",
   "metadata": {},
   "outputs": [
    {
     "data": {
      "text/plain": [
       "array([[6, 7, 8],\n",
       "       [1, 2, 3],\n",
       "       [9, 4, 5]])"
      ]
     },
     "execution_count": 165,
     "metadata": {},
     "output_type": "execute_result"
    }
   ],
   "source": [
    "a = np.array([[6,7,8],[1,2,3],[9,4,5]])\n",
    "a"
   ]
  },
  {
   "cell_type": "code",
   "execution_count": 168,
   "id": "5ae8d492-4476-4a00-bf08-813efd636975",
   "metadata": {},
   "outputs": [
    {
     "data": {
      "text/plain": [
       "7"
      ]
     },
     "execution_count": 168,
     "metadata": {},
     "output_type": "execute_result"
    }
   ],
   "source": [
    "a[0,1] ## implies 1st row 2nd col, here also indexing is 0 based "
   ]
  },
  {
   "cell_type": "code",
   "execution_count": 174,
   "id": "a8c7d1ad-94de-48fc-8a31-dba22dd0e854",
   "metadata": {},
   "outputs": [
    {
     "data": {
      "text/plain": [
       "array([[6, 7, 8],\n",
       "       [1, 2, 3]])"
      ]
     },
     "execution_count": 174,
     "metadata": {},
     "output_type": "execute_result"
    }
   ],
   "source": [
    "a[0:2] # prints 0th row and 1st row"
   ]
  },
  {
   "cell_type": "code",
   "execution_count": 179,
   "id": "c856a372-f1b6-44cf-9d3e-1dbd30bafb56",
   "metadata": {},
   "outputs": [
    {
     "data": {
      "text/plain": [
       "array([8, 3])"
      ]
     },
     "execution_count": 179,
     "metadata": {},
     "output_type": "execute_result"
    }
   ],
   "source": [
    "a[0:2,2] # second element of 0th row and 1st row"
   ]
  },
  {
   "cell_type": "code",
   "execution_count": 186,
   "id": "9cf7d8ad-c29b-43aa-993b-7a84a16ae03a",
   "metadata": {},
   "outputs": [
    {
     "data": {
      "text/plain": [
       "array([9, 4, 5])"
      ]
     },
     "execution_count": 186,
     "metadata": {},
     "output_type": "execute_result"
    }
   ],
   "source": [
    "a[-1]"
   ]
  },
  {
   "cell_type": "code",
   "execution_count": 109,
   "id": "e8701f0b-3e83-4b38-b7f8-fa65b3f70005",
   "metadata": {},
   "outputs": [
    {
     "data": {
      "text/plain": [
       "array([9, 4])"
      ]
     },
     "execution_count": 109,
     "metadata": {},
     "output_type": "execute_result"
    }
   ],
   "source": [
    "a[-1, 0:2] #last row 0th and 1st col"
   ]
  },
  {
   "cell_type": "code",
   "execution_count": 199,
   "id": "e54e5385-3f7e-4ff8-b417-95c2a8c36546",
   "metadata": {},
   "outputs": [
    {
     "data": {
      "text/plain": [
       "array([[7, 8],\n",
       "       [2, 3],\n",
       "       [4, 5]])"
      ]
     },
     "execution_count": 199,
     "metadata": {},
     "output_type": "execute_result"
    }
   ],
   "source": [
    "a[:,1:3] # all rows and 1st and 2nd col inclusive"
   ]
  },
  {
   "cell_type": "code",
   "execution_count": 112,
   "id": "fe3a9f8a-8262-43cb-878e-7e887a3d224a",
   "metadata": {},
   "outputs": [
    {
     "name": "stdout",
     "output_type": "stream",
     "text": [
      "[6 7 8]\n",
      "[1 2 3]\n",
      "[9 4 5]\n"
     ]
    }
   ],
   "source": [
    "# Iterating through array\n",
    "a = np.array([[6,7,8],[1,2,3],[9,4,5]])\n",
    "for row in a:\n",
    "    print(row)"
   ]
  },
  {
   "cell_type": "code",
   "execution_count": 113,
   "id": "974ee7ff-aae2-49d7-8b52-db7292a9c023",
   "metadata": {},
   "outputs": [
    {
     "name": "stdout",
     "output_type": "stream",
     "text": [
      "6\n",
      "7\n",
      "8\n",
      "1\n",
      "2\n",
      "3\n",
      "9\n",
      "4\n",
      "5\n"
     ]
    }
   ],
   "source": [
    "# flatten and print every cell using flat method\n",
    "for cell in a.flat:\n",
    "    print(cell)"
   ]
  },
  {
   "cell_type": "code",
   "execution_count": 200,
   "id": "26b8114e-440a-4a21-850f-14a4fa9c77c4",
   "metadata": {},
   "outputs": [
    {
     "data": {
      "text/plain": [
       "array([[0, 1],\n",
       "       [2, 3],\n",
       "       [4, 5]])"
      ]
     },
     "execution_count": 200,
     "metadata": {},
     "output_type": "execute_result"
    }
   ],
   "source": [
    "#  stacking two arrays together\n",
    "# initializing two 2d arr with no. from 0 to 5 and 6 to 11 & reshaping it in 3*2\n",
    "a = np.arange(6).reshape(3,2)\n",
    "b = np.arange(6,12).reshape(3,2)\n",
    "a"
   ]
  },
  {
   "cell_type": "code",
   "execution_count": 202,
   "id": "4329e262-bd8c-4505-8b27-93050464a2e3",
   "metadata": {},
   "outputs": [
    {
     "name": "stdout",
     "output_type": "stream",
     "text": [
      "[[ 0  1]\n",
      " [ 2  3]\n",
      " [ 4  5]\n",
      " [ 6  7]\n",
      " [ 8  9]\n",
      " [10 11]]\n",
      "[[ 0  1  6  7]\n",
      " [ 2  3  8  9]\n",
      " [ 4  5 10 11]]\n"
     ]
    }
   ],
   "source": [
    "print(np.vstack((a,b))) # vertical stacking\n",
    "print(np.hstack((a,b))) # horizontal stacking"
   ]
  },
  {
   "cell_type": "code",
   "execution_count": 205,
   "id": "9aa503b9-36f1-4a90-9f6f-abc6cb5f17db",
   "metadata": {},
   "outputs": [
    {
     "data": {
      "text/plain": [
       "array([[ 0,  1,  2,  3,  4,  5,  6,  7,  8,  9, 10, 11, 12, 13, 14],\n",
       "       [15, 16, 17, 18, 19, 20, 21, 22, 23, 24, 25, 26, 27, 28, 29]])"
      ]
     },
     "execution_count": 205,
     "metadata": {},
     "output_type": "execute_result"
    }
   ],
   "source": [
    "a = np.arange(30).reshape(2,15)\n",
    "a"
   ]
  },
  {
   "cell_type": "code",
   "execution_count": 219,
   "id": "80f2020f-c176-464d-b83b-b29def67961b",
   "metadata": {},
   "outputs": [
    {
     "name": "stdout",
     "output_type": "stream",
     "text": [
      "[array([[ 0,  1,  2,  3,  4],\n",
      "       [15, 16, 17, 18, 19]]), array([[ 5,  6,  7,  8,  9],\n",
      "       [20, 21, 22, 23, 24]]), array([[10, 11, 12, 13, 14],\n",
      "       [25, 26, 27, 28, 29]])]\n",
      "[[10 11 12 13 14]\n",
      " [25 26 27 28 29]]\n"
     ]
    }
   ],
   "source": [
    "# Splitting arrays\n",
    "result = np.hsplit(a,3) # horizontally into 3 diff arrays\n",
    "print(result)\n",
    "print(result[2])"
   ]
  },
  {
   "cell_type": "code",
   "execution_count": 218,
   "id": "b4e5ab96-d6c0-4424-8bad-2ef012b50998",
   "metadata": {},
   "outputs": [
    {
     "name": "stdout",
     "output_type": "stream",
     "text": [
      "[array([[ 0,  1,  2,  3,  4,  5,  6,  7,  8,  9, 10, 11, 12, 13, 14]]), array([[15, 16, 17, 18, 19, 20, 21, 22, 23, 24, 25, 26, 27, 28, 29]])]\n"
     ]
    }
   ],
   "source": [
    "print(np.vsplit(a,2))"
   ]
  },
  {
   "cell_type": "code",
   "execution_count": 136,
   "id": "b9a4cb4e-48ba-4d1f-93e7-a2fae6b1a50d",
   "metadata": {},
   "outputs": [
    {
     "data": {
      "text/plain": [
       "array([[ 0,  1,  2,  3],\n",
       "       [ 4,  5,  6,  7],\n",
       "       [ 8,  9, 10, 11]])"
      ]
     },
     "execution_count": 136,
     "metadata": {},
     "output_type": "execute_result"
    }
   ],
   "source": [
    "# Indexing with boolean arrays\n",
    "a = np.arange(12).reshape(3,4)\n",
    "a"
   ]
  },
  {
   "cell_type": "code",
   "execution_count": 138,
   "id": "5438ccc0-67a5-4282-9583-981dbf60f5f5",
   "metadata": {},
   "outputs": [
    {
     "data": {
      "text/plain": [
       "array([[False, False, False, False],\n",
       "       [False, False, False,  True],\n",
       "       [ True,  True,  True,  True]])"
      ]
     },
     "execution_count": 138,
     "metadata": {},
     "output_type": "execute_result"
    }
   ],
   "source": [
    "b=a>6\n",
    "b # so with boolean condition we get a new array in bool form"
   ]
  },
  {
   "cell_type": "code",
   "execution_count": 147,
   "id": "7bd14dab-e449-4c65-9d89-82a6f3d7ed90",
   "metadata": {},
   "outputs": [
    {
     "data": {
      "text/plain": [
       "array([ 7,  8,  9, 10, 11])"
      ]
     },
     "execution_count": 147,
     "metadata": {},
     "output_type": "execute_result"
    }
   ],
   "source": [
    "# way of extracting all elements>6\n",
    "a[b]"
   ]
  },
  {
   "cell_type": "code",
   "execution_count": 149,
   "id": "5a9820dd-f0cd-4fd6-bfa1-ce87cbb990b1",
   "metadata": {},
   "outputs": [
    {
     "data": {
      "text/plain": [
       "array([[ 0,  1,  2,  3],\n",
       "       [ 4,  5,  6, -1],\n",
       "       [-1, -1, -1, -1]])"
      ]
     },
     "execution_count": 149,
     "metadata": {},
     "output_type": "execute_result"
    }
   ],
   "source": [
    "# replacing elements>6 with -1\n",
    "a[b] = -1\n",
    "a"
   ]
  },
  {
   "cell_type": "markdown",
   "id": "e1192fb5-daa8-43d2-9584-7c4c0be45592",
   "metadata": {},
   "source": [
    "### 4. Read Write Text files"
   ]
  },
  {
   "cell_type": "markdown",
   "id": "0b40e91c-33ff-41f7-8915-ed85e768ddda",
   "metadata": {},
   "source": [
    "Numpy provides funcn for reading and writing arrays to text files"
   ]
  },
  {
   "cell_type": "code",
   "execution_count": 150,
   "id": "d769b99f-a251-434c-9e8f-9491f91e5ccf",
   "metadata": {},
   "outputs": [],
   "source": [
    "# writing\n",
    "x = np.array([[1,2,3],[4,5,6],[7,8,9]],np.int32)\n",
    "np.savetxt(\"numpy_test.txt\",x)"
   ]
  },
  {
   "cell_type": "code",
   "execution_count": 152,
   "id": "0d526392-932a-46e6-a43c-193250368a06",
   "metadata": {},
   "outputs": [
    {
     "name": "stdout",
     "output_type": "stream",
     "text": [
      "[[1. 2. 3.]\n",
      " [4. 5. 6.]\n",
      " [7. 8. 9.]]\n"
     ]
    }
   ],
   "source": [
    "# reading\n",
    "y = np.loadtxt(\"numpy_test.txt\")\n",
    "print(y)"
   ]
  },
  {
   "cell_type": "markdown",
   "id": "e9560db7-bc8d-4236-ac20-7b746487a67f",
   "metadata": {},
   "source": [
    "### loadtxt and savetxt in numpy"
   ]
  },
  {
   "cell_type": "markdown",
   "id": "8de74b9d-5084-45f7-8c40-2af0bdc85c5b",
   "metadata": {},
   "source": [
    "#### 4.1 loadtxt"
   ]
  },
  {
   "cell_type": "code",
   "execution_count": 230,
   "id": "4d283f5e-f3d8-4020-98b6-4db49ae65292",
   "metadata": {},
   "outputs": [],
   "source": [
    "# help(np.loadtxt)"
   ]
  },
  {
   "cell_type": "code",
   "execution_count": 228,
   "id": "bb8f0f1f-71e8-4436-94da-94f01c654162",
   "metadata": {},
   "outputs": [],
   "source": [
    "data = np.loadtxt('data_file_1.csv',skiprows=9,delimiter=',') # skipping alll rows which are not numeric....\n",
    "# still considering values in whole row/line as one thing, i.e. a string therefore used delimiter(,) to get each numeric value seperately..\n",
    "#if not use any of two it throws error msg "
   ]
  },
  {
   "cell_type": "code",
   "execution_count": 232,
   "id": "0a02f959-f325-434d-8117-aa7bb4766e3e",
   "metadata": {},
   "outputs": [
    {
     "data": {
      "text/plain": [
       "array([[0.        , 0.        , 1.75      ],\n",
       "       [0.01      , 0.06279052, 1.73817205],\n",
       "       [0.02      , 0.12533323, 1.70287474],\n",
       "       [0.03      , 0.18738131, 1.64466473],\n",
       "       [0.04      , 0.24868989, 1.56446002],\n",
       "       [0.05      , 0.30901699, 1.46352549],\n",
       "       [0.06      , 0.36812455, 1.34345294],\n",
       "       [0.07      , 0.42577929, 1.20613598],\n",
       "       [0.08      , 0.48175367, 1.05374019],\n",
       "       [0.09      , 0.53582679, 0.88866894]])"
      ]
     },
     "execution_count": 232,
     "metadata": {},
     "output_type": "execute_result"
    }
   ],
   "source": [
    "# shows first 10 rows\n",
    "data[0:10] "
   ]
  },
  {
   "cell_type": "code",
   "execution_count": 234,
   "id": "d0729d4f-333e-4e83-8199-5ac5779b94bc",
   "metadata": {},
   "outputs": [
    {
     "data": {
      "text/plain": [
       "array([[0.        , 0.        , 1.75      ],\n",
       "       [0.01      , 0.06279052, 1.73817205],\n",
       "       [0.02      , 0.12533323, 1.70287474],\n",
       "       [0.03      , 0.18738131, 1.64466473],\n",
       "       [0.04      , 0.24868989, 1.56446002],\n",
       "       [0.05      , 0.30901699, 1.46352549],\n",
       "       [0.06      , 0.36812455, 1.34345294],\n",
       "       [0.07      , 0.42577929, 1.20613598],\n",
       "       [0.08      , 0.48175367, 1.05374019],\n",
       "       [0.09      , 0.53582679, 0.88866894]])"
      ]
     },
     "execution_count": 234,
     "metadata": {},
     "output_type": "execute_result"
    }
   ],
   "source": [
    "# but in case i'm writing the file, so instead I can in file itself put # before rows I want to skip..\n",
    "# and seperate numeric values by tab/space rather than ','\n",
    "# So lets use one such file..\n",
    "data1b = np.loadtxt('data_file_1b.csv')\n",
    "data1b[:10]"
   ]
  },
  {
   "cell_type": "code",
   "execution_count": 235,
   "id": "8d3cbf16-0f70-415c-b08a-e39bee138f50",
   "metadata": {},
   "outputs": [
    {
     "data": {
      "text/plain": [
       "array([[0., 0., 0.],\n",
       "       [0., 0., 0.],\n",
       "       [0., 0., 0.],\n",
       "       [0., 0., 0.],\n",
       "       [0., 0., 0.],\n",
       "       [0., 0., 0.],\n",
       "       [0., 0., 0.],\n",
       "       [0., 0., 0.],\n",
       "       [0., 0., 0.],\n",
       "       [0., 0., 0.]])"
      ]
     },
     "execution_count": 235,
     "metadata": {},
     "output_type": "execute_result"
    }
   ],
   "source": [
    "(data-data1b)[:10]"
   ]
  },
  {
   "cell_type": "code",
   "execution_count": 236,
   "id": "9bc076c6-376b-4a0a-8d92-0d4c2a497ca2",
   "metadata": {},
   "outputs": [
    {
     "data": {
      "text/plain": [
       "array([[ True,  True,  True],\n",
       "       [ True,  True,  True],\n",
       "       [ True,  True,  True],\n",
       "       [ True,  True,  True],\n",
       "       [ True,  True,  True],\n",
       "       [ True,  True,  True],\n",
       "       [ True,  True,  True],\n",
       "       [ True,  True,  True],\n",
       "       [ True,  True,  True],\n",
       "       [ True,  True,  True],\n",
       "       [ True,  True,  True],\n",
       "       [ True,  True,  True],\n",
       "       [ True,  True,  True],\n",
       "       [ True,  True,  True],\n",
       "       [ True,  True,  True],\n",
       "       [ True,  True,  True],\n",
       "       [ True,  True,  True],\n",
       "       [ True,  True,  True],\n",
       "       [ True,  True,  True],\n",
       "       [ True,  True,  True],\n",
       "       [ True,  True,  True],\n",
       "       [ True,  True,  True],\n",
       "       [ True,  True,  True],\n",
       "       [ True,  True,  True],\n",
       "       [ True,  True,  True],\n",
       "       [ True,  True,  True],\n",
       "       [ True,  True,  True],\n",
       "       [ True,  True,  True],\n",
       "       [ True,  True,  True],\n",
       "       [ True,  True,  True],\n",
       "       [ True,  True,  True],\n",
       "       [ True,  True,  True],\n",
       "       [ True,  True,  True],\n",
       "       [ True,  True,  True],\n",
       "       [ True,  True,  True],\n",
       "       [ True,  True,  True],\n",
       "       [ True,  True,  True],\n",
       "       [ True,  True,  True],\n",
       "       [ True,  True,  True],\n",
       "       [ True,  True,  True],\n",
       "       [ True,  True,  True],\n",
       "       [ True,  True,  True],\n",
       "       [ True,  True,  True],\n",
       "       [ True,  True,  True],\n",
       "       [ True,  True,  True],\n",
       "       [ True,  True,  True],\n",
       "       [ True,  True,  True],\n",
       "       [ True,  True,  True],\n",
       "       [ True,  True,  True],\n",
       "       [ True,  True,  True],\n",
       "       [ True,  True,  True],\n",
       "       [ True,  True,  True],\n",
       "       [ True,  True,  True],\n",
       "       [ True,  True,  True],\n",
       "       [ True,  True,  True],\n",
       "       [ True,  True,  True],\n",
       "       [ True,  True,  True],\n",
       "       [ True,  True,  True],\n",
       "       [ True,  True,  True],\n",
       "       [ True,  True,  True],\n",
       "       [ True,  True,  True],\n",
       "       [ True,  True,  True],\n",
       "       [ True,  True,  True],\n",
       "       [ True,  True,  True],\n",
       "       [ True,  True,  True],\n",
       "       [ True,  True,  True],\n",
       "       [ True,  True,  True],\n",
       "       [ True,  True,  True],\n",
       "       [ True,  True,  True],\n",
       "       [ True,  True,  True],\n",
       "       [ True,  True,  True],\n",
       "       [ True,  True,  True],\n",
       "       [ True,  True,  True],\n",
       "       [ True,  True,  True],\n",
       "       [ True,  True,  True],\n",
       "       [ True,  True,  True],\n",
       "       [ True,  True,  True],\n",
       "       [ True,  True,  True],\n",
       "       [ True,  True,  True],\n",
       "       [ True,  True,  True],\n",
       "       [ True,  True,  True],\n",
       "       [ True,  True,  True],\n",
       "       [ True,  True,  True],\n",
       "       [ True,  True,  True],\n",
       "       [ True,  True,  True],\n",
       "       [ True,  True,  True],\n",
       "       [ True,  True,  True],\n",
       "       [ True,  True,  True],\n",
       "       [ True,  True,  True],\n",
       "       [ True,  True,  True],\n",
       "       [ True,  True,  True],\n",
       "       [ True,  True,  True],\n",
       "       [ True,  True,  True],\n",
       "       [ True,  True,  True],\n",
       "       [ True,  True,  True],\n",
       "       [ True,  True,  True],\n",
       "       [ True,  True,  True],\n",
       "       [ True,  True,  True],\n",
       "       [ True,  True,  True],\n",
       "       [ True,  True,  True]])"
      ]
     },
     "execution_count": 236,
     "metadata": {},
     "output_type": "execute_result"
    }
   ],
   "source": [
    "data==data1b"
   ]
  },
  {
   "cell_type": "markdown",
   "id": "9d44c017-4f2f-4cbb-82cc-5267329aea35",
   "metadata": {},
   "source": [
    "#### 4.2 savetxt"
   ]
  },
  {
   "cell_type": "code",
   "execution_count": 239,
   "id": "2b9700ed-14de-4599-88be-8a4b0ec5991e",
   "metadata": {},
   "outputs": [],
   "source": [
    "# help(np.savetxt)\n",
    "# here some of imp defaults are:- fmt ='%.18e', delimiter='', \n",
    "# newline='\\n', header='',,,info on all can be found using help"
   ]
  },
  {
   "cell_type": "code",
   "execution_count": null,
   "id": "f7378cfa-f10b-4e03-91a6-d65bbf98d9df",
   "metadata": {},
   "outputs": [],
   "source": [
    "from numpy import *\n",
    "from matplotlib import *"
   ]
  },
  {
   "cell_type": "code",
   "execution_count": 246,
   "id": "0b489a25-9f48-45d4-9fab-a0ea04cc202d",
   "metadata": {},
   "outputs": [],
   "source": [
    "t = np.arange(0,1,0.01)\n",
    "y1= np.sin(2*np.pi*t)\n",
    "y2 = np.cos(4*np.pi*t)\n",
    "\n",
    "data = np.column_stack([t,y1,y2]) #column_stack func of numpy to make each of these a col\n",
    "comments = ['line1','line2','line3']\n",
    "labels = ['t','y1','y2']\n",
    "\n",
    "label_row = ','.join(labels)\n",
    "my_header = '\\n'.join(comments)\n",
    "my_header += '\\n'\n",
    "my_header += label_row\n",
    "\n",
    "np.savetxt('savetxt_data_text.csv',data,delimiter=',',header=my_header)"
   ]
  },
  {
   "cell_type": "code",
   "execution_count": 247,
   "id": "549c74c7-7c45-4a44-bab8-3598f8f06ab1",
   "metadata": {},
   "outputs": [
    {
     "data": {
      "text/plain": [
       "array([[0.        , 0.        , 1.        ],\n",
       "       [0.01      , 0.06279052, 0.9921147 ],\n",
       "       [0.02      , 0.12533323, 0.96858316],\n",
       "       [0.03      , 0.18738131, 0.92977649],\n",
       "       [0.04      , 0.24868989, 0.87630668],\n",
       "       [0.05      , 0.30901699, 0.80901699],\n",
       "       [0.06      , 0.36812455, 0.72896863],\n",
       "       [0.07      , 0.42577929, 0.63742399],\n",
       "       [0.08      , 0.48175367, 0.53582679],\n",
       "       [0.09      , 0.53582679, 0.42577929]])"
      ]
     },
     "execution_count": 247,
     "metadata": {},
     "output_type": "execute_result"
    }
   ],
   "source": [
    "data[:10] #here, data being same as defined \n",
    "# but when we do savetxt data is being stored by default in '%.18e' format"
   ]
  },
  {
   "cell_type": "code",
   "execution_count": 249,
   "id": "6cbd77f1-36d9-4bbf-98b9-1fc79716685b",
   "metadata": {},
   "outputs": [
    {
     "name": "stdout",
     "output_type": "stream",
     "text": [
      "line1\n",
      "line2\n",
      "line3\n",
      "t,y1,y2\n"
     ]
    }
   ],
   "source": [
    "print(my_header)"
   ]
  },
  {
   "cell_type": "markdown",
   "id": "050c2791-9277-41b8-a539-5cc1122d44eb",
   "metadata": {},
   "source": [
    "### 5. Iterating through numpy array"
   ]
  },
  {
   "cell_type": "code",
   "execution_count": 320,
   "id": "066e393f-f7be-43df-8d1b-556cc4694c3b",
   "metadata": {},
   "outputs": [
    {
     "data": {
      "text/plain": [
       "array([[ 0,  1,  2,  3],\n",
       "       [ 4,  5,  6,  7],\n",
       "       [ 8,  9, 10, 11]])"
      ]
     },
     "execution_count": 320,
     "metadata": {},
     "output_type": "execute_result"
    }
   ],
   "source": [
    "a= np.arange(12).reshape(3,4)\n",
    "a"
   ]
  },
  {
   "cell_type": "code",
   "execution_count": 251,
   "id": "73dda107-8b3d-44ac-9059-6bc6cb658ab8",
   "metadata": {},
   "outputs": [
    {
     "name": "stdout",
     "output_type": "stream",
     "text": [
      "[0 1 2 3]\n",
      "[4 5 6 7]\n",
      "[ 8  9 10 11]\n"
     ]
    }
   ],
   "source": [
    "# simple way iterating each row\n",
    "for row in a:\n",
    "    print(row)"
   ]
  },
  {
   "cell_type": "code",
   "execution_count": 256,
   "id": "973ffbb2-cd90-4d23-9465-f8394f28438f",
   "metadata": {},
   "outputs": [
    {
     "name": "stdout",
     "output_type": "stream",
     "text": [
      "0\n",
      "1\n",
      "2\n",
      "3\n",
      "4\n",
      "5\n",
      "6\n",
      "7\n",
      "8\n",
      "9\n",
      "10\n",
      "11\n"
     ]
    }
   ],
   "source": [
    "# for iterating through each cell\n",
    "for row in a:\n",
    "    for cell in row:\n",
    "        print(cell)"
   ]
  },
  {
   "cell_type": "code",
   "execution_count": 257,
   "id": "4b418677-68ce-423b-a18d-fee574f24c67",
   "metadata": {},
   "outputs": [
    {
     "name": "stdout",
     "output_type": "stream",
     "text": [
      "0\n",
      "1\n",
      "2\n",
      "3\n",
      "4\n",
      "5\n",
      "6\n",
      "7\n",
      "8\n",
      "9\n",
      "10\n",
      "11\n"
     ]
    }
   ],
   "source": [
    "# As seen before, # this can be done without an extra for loop as well, \n",
    "# as here we're flattening the array\n",
    "for cell in a.flatten():\n",
    "    print(cell)"
   ]
  },
  {
   "cell_type": "markdown",
   "id": "fd8c7e89-8d2b-466c-89c0-37fd6fc599a2",
   "metadata": {},
   "source": [
    "Numpy offers a function call nditer(), to do iteration in more sophisticated way"
   ]
  },
  {
   "cell_type": "code",
   "execution_count": 266,
   "id": "5b276738-8318-42c2-b268-95b5e3fee9c1",
   "metadata": {},
   "outputs": [
    {
     "name": "stdout",
     "output_type": "stream",
     "text": [
      "0\n",
      "1\n",
      "2\n",
      "3\n",
      "4\n",
      "5\n",
      "6\n",
      "7\n",
      "8\n",
      "9\n",
      "10\n",
      "11\n"
     ]
    }
   ],
   "source": [
    "# going row by row & printing each col's element by element---> called C order,works same as flatten()\n",
    "for x in np.nditer(a, order='c'):\n",
    "    print(x)"
   ]
  },
  {
   "cell_type": "code",
   "execution_count": 268,
   "id": "aab5f004-500d-4ec7-9a6b-f385a363e147",
   "metadata": {},
   "outputs": [
    {
     "name": "stdout",
     "output_type": "stream",
     "text": [
      "0\n",
      "4\n",
      "8\n",
      "1\n",
      "5\n",
      "9\n",
      "2\n",
      "6\n",
      "10\n",
      "3\n",
      "7\n",
      "11\n"
     ]
    }
   ],
   "source": [
    "#vice-versa, i.e here going col by col & printing row's element by element-->called fortran order\n",
    "for x in np.nditer(a, order='f'):\n",
    "    print(x)"
   ]
  },
  {
   "cell_type": "code",
   "execution_count": 281,
   "id": "f5d69854-c579-4711-a22d-73450fe1eef2",
   "metadata": {},
   "outputs": [
    {
     "name": "stdout",
     "output_type": "stream",
     "text": [
      "[0 4 8]\n",
      "[1 5 9]\n",
      "[ 2  6 10]\n",
      "[ 3  7 11]\n"
     ]
    }
   ],
   "source": [
    "# printing entire col on each iteration\n",
    "for x in np.nditer(a,order='F',flags =['external_loop']):\n",
    "    print(x)"
   ]
  },
  {
   "cell_type": "code",
   "execution_count": 323,
   "id": "00ce957b-58d6-41ed-8e9b-603918b4862f",
   "metadata": {},
   "outputs": [],
   "source": [
    "## modifying elements while iterating through array \n",
    "for x in np.nditer(a, op_flags=['readwrite']):\n",
    "    x[...]=x*x "
   ]
  },
  {
   "cell_type": "code",
   "execution_count": 324,
   "id": "d15c3c2f-aeb1-42ef-96f3-f8209abc2c30",
   "metadata": {},
   "outputs": [
    {
     "data": {
      "text/plain": [
       "array([[  0,   1,   4,   9],\n",
       "       [ 16,  25,  36,  49],\n",
       "       [ 64,  81, 100, 121]])"
      ]
     },
     "execution_count": 324,
     "metadata": {},
     "output_type": "execute_result"
    }
   ],
   "source": [
    "a ## prints square of orig. elements as original arr is being modified"
   ]
  },
  {
   "cell_type": "code",
   "execution_count": 347,
   "id": "c77ba469-ebf3-4436-906c-9b399095f730",
   "metadata": {},
   "outputs": [
    {
     "data": {
      "text/plain": [
       "array([[ 3],\n",
       "       [ 7],\n",
       "       [11]])"
      ]
     },
     "execution_count": 347,
     "metadata": {},
     "output_type": "execute_result"
    }
   ],
   "source": [
    "# iterating through two numpy arrays simultaneously\n",
    "b = np.arange(3,15,4).reshape(3,1)\n",
    "b"
   ]
  },
  {
   "cell_type": "code",
   "execution_count": 348,
   "id": "b5a44439-9729-4bd0-b570-967b6ed3cf56",
   "metadata": {},
   "outputs": [
    {
     "name": "stdout",
     "output_type": "stream",
     "text": [
      "0 3\n",
      "1 3\n",
      "4 3\n",
      "9 3\n",
      "16 7\n",
      "25 7\n",
      "36 7\n",
      "49 7\n",
      "64 11\n",
      "81 11\n",
      "100 11\n",
      "121 11\n"
     ]
    }
   ],
   "source": [
    "## iterating through first row elements simultaneously\n",
    "for x, y in np.nditer([a,b]):\n",
    "    print(x,y)"
   ]
  },
  {
   "cell_type": "markdown",
   "id": "76095cd3-8a7c-4834-a335-1835172d73ac",
   "metadata": {},
   "source": [
    "General Broadcasting Rule comes here into play, & it says,\n",
    "\n",
    "Two dimensions are compatible when:-\n",
    "* They are equal, or\n",
    "* One of them is 1"
   ]
  },
  {
   "cell_type": "code",
   "execution_count": 349,
   "id": "3230c73b-77da-4f0b-b4c0-1a7753d10dca",
   "metadata": {},
   "outputs": [
    {
     "data": {
      "text/plain": [
       "array([[ 3],\n",
       "       [ 8],\n",
       "       [13],\n",
       "       [18]])"
      ]
     },
     "execution_count": 349,
     "metadata": {},
     "output_type": "execute_result"
    }
   ],
   "source": [
    "c = np.arange(3,19,5).reshape(4,1)\n",
    "c"
   ]
  },
  {
   "cell_type": "code",
   "execution_count": 353,
   "id": "ff1ce4a1-6bff-4be3-96e6-f452558b639f",
   "metadata": {},
   "outputs": [
    {
     "ename": "ValueError",
     "evalue": "operands could not be broadcast together with shapes (3,1) (4,1) ",
     "output_type": "error",
     "traceback": [
      "\u001b[1;31m---------------------------------------------------------------------------\u001b[0m",
      "\u001b[1;31mValueError\u001b[0m                                Traceback (most recent call last)",
      "Cell \u001b[1;32mIn[353], line 1\u001b[0m\n\u001b[1;32m----> 1\u001b[0m \u001b[38;5;28;01mfor\u001b[39;00m x,y \u001b[38;5;129;01min\u001b[39;00m \u001b[43mnp\u001b[49m\u001b[38;5;241;43m.\u001b[39;49m\u001b[43mnditer\u001b[49m\u001b[43m(\u001b[49m\u001b[43m[\u001b[49m\u001b[43mb\u001b[49m\u001b[43m,\u001b[49m\u001b[43mc\u001b[49m\u001b[43m]\u001b[49m\u001b[43m)\u001b[49m:\n\u001b[0;32m      2\u001b[0m     \u001b[38;5;28mprint\u001b[39m(x,y)\n",
      "\u001b[1;31mValueError\u001b[0m: operands could not be broadcast together with shapes (3,1) (4,1) "
     ]
    }
   ],
   "source": [
    "for x,y in np.nditer([b,c]):\n",
    "    print(x,y)"
   ]
  },
  {
   "cell_type": "code",
   "execution_count": 360,
   "id": "b246752b-e690-4e95-ac7f-514b6eaa9504",
   "metadata": {},
   "outputs": [
    {
     "name": "stdout",
     "output_type": "stream",
     "text": [
      "3 3\n",
      "7 8\n",
      "11 13\n"
     ]
    }
   ],
   "source": [
    "# instead making c to d:-...works both with a,d and b,d\n",
    "d = np.arange(3,18,5).reshape(3,1)\n",
    "d\n",
    "for x,y in np.nditer([b,d]):\n",
    "    print(x,y)"
   ]
  },
  {
   "cell_type": "code",
   "execution_count": 373,
   "id": "0caa3282-6176-4eb3-98ec-241146002dd3",
   "metadata": {},
   "outputs": [
    {
     "name": "stdout",
     "output_type": "stream",
     "text": [
      "[[  0   1   4   9]\n",
      " [ 16  25  36  49]\n",
      " [ 64  81 100 121]]\n",
      "[[0 1]\n",
      " [2 3]\n",
      " [4 5]]\n"
     ]
    },
    {
     "ename": "ValueError",
     "evalue": "operands could not be broadcast together with shapes (3,4) (3,2) ",
     "output_type": "error",
     "traceback": [
      "\u001b[1;31m---------------------------------------------------------------------------\u001b[0m",
      "\u001b[1;31mValueError\u001b[0m                                Traceback (most recent call last)",
      "Cell \u001b[1;32mIn[373], line 5\u001b[0m\n\u001b[0;32m      3\u001b[0m \u001b[38;5;28mprint\u001b[39m(a)\n\u001b[0;32m      4\u001b[0m \u001b[38;5;28mprint\u001b[39m(e)\n\u001b[1;32m----> 5\u001b[0m \u001b[38;5;28;01mfor\u001b[39;00m x,y \u001b[38;5;129;01min\u001b[39;00m \u001b[43mnp\u001b[49m\u001b[38;5;241;43m.\u001b[39;49m\u001b[43mnditer\u001b[49m\u001b[43m(\u001b[49m\u001b[43m[\u001b[49m\u001b[43ma\u001b[49m\u001b[43m,\u001b[49m\u001b[43me\u001b[49m\u001b[43m]\u001b[49m\u001b[43m)\u001b[49m:\n\u001b[0;32m      6\u001b[0m     \u001b[38;5;28mprint\u001b[39m(x,y)\n",
      "\u001b[1;31mValueError\u001b[0m: operands could not be broadcast together with shapes (3,4) (3,2) "
     ]
    }
   ],
   "source": [
    "e = np.arange(6).reshape(3,2)\n",
    "e\n",
    "print(a)\n",
    "print(e)\n",
    "for x,y in np.nditer([a,e]):\n",
    "    print(x,y)"
   ]
  },
  {
   "cell_type": "markdown",
   "id": "c1b53956-c0d7-47f7-8a1d-749cb32f047f",
   "metadata": {},
   "source": [
    "a,b = 3*4 & 3*1 --works\n",
    "\n",
    "a,c = 3*4 & 4*1 --not works\n",
    "\n",
    "a,d = 3*4 & 3*1 --works\n",
    "\n",
    "a,e = 3*4 & 3*2 --not works\n",
    "\n",
    "b,c = 3*1 & 4*1 -- not works\n",
    "\n",
    "b,d = 3*1 & 3*1 --works\n",
    "\n",
    "b,e = 3*1 & 3*2 --works\n",
    "\n",
    "c,d = 4*1 & 3*1 --not works\n",
    "\n",
    "c,e = 4*1 & 3*2 --not works\n",
    "\n",
    "d,e = 3*1 & 3*2 --works"
   ]
  },
  {
   "cell_type": "code",
   "execution_count": null,
   "id": "b151d925-709f-45cf-b268-930281b2d9cb",
   "metadata": {},
   "outputs": [],
   "source": []
  }
 ],
 "metadata": {
  "kernelspec": {
   "display_name": "Python 3 (ipykernel)",
   "language": "python",
   "name": "python3"
  },
  "language_info": {
   "codemirror_mode": {
    "name": "ipython",
    "version": 3
   },
   "file_extension": ".py",
   "mimetype": "text/x-python",
   "name": "python",
   "nbconvert_exporter": "python",
   "pygments_lexer": "ipython3",
   "version": "3.11.0"
  }
 },
 "nbformat": 4,
 "nbformat_minor": 5
}
